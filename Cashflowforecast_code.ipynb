{
 "cells": [
  {
   "cell_type": "code",
   "execution_count": 10,
   "id": "6c4b0491-1df1-479b-9fe0-618477752320",
   "metadata": {},
   "outputs": [
    {
     "name": "stdout",
     "output_type": "stream",
     "text": [
      "Net income : 74409.33333333328\n",
      "Depreciation of property and equipment : 8551.99999999999\n",
      "Stock-based compensation expense : 4897.999999999985\n",
      "Deferred income taxes : 14463.333333333332\n",
      "(Gain) loss on debt and equity securities, net : -28161.999999999996\n",
      "Other : -1494.000000000001\n",
      "Accounts receivable, net : -8938.999999999996\n",
      "Income taxes, net : -2135.333333333333\n",
      "Other assets : -2417.6666666666647\n",
      "Accounts payable : -210.66666666666697\n",
      "Accrued expenses and other liabilities : 11785.999999999995\n",
      "Accrued revenue share : 2972.999999999999\n",
      "Deferred revenue : 1053.3333333333328\n",
      "Net cash provided by operating activities : 74776.33333333326\n",
      "Purchases of property and equipment : -14236.666666666642\n",
      "Purchases of marketable securities : -211985.33333333323\n",
      "Maturities and sales of marketable securities : 187506.66666666657\n",
      "Purchases of non-marketable securities : -2420.6666666666647\n",
      "Maturities and sales of non-marketable securities : 650.9999999999995\n",
      "Acquisitions, net of cash acquired, and purchases of intangible assets : -7606.666666666662\n",
      "Other investing activities : 3543.6666666666656\n",
      "Net cash used in investing activities : -44547.99999999997\n",
      "Net payments related to stock-based award activities : -10416.333333333325\n",
      "Repurchases of stock : -34564.66666666661\n",
      "Proceeds from issuance of debt, net of costs : 46771.66666666664\n",
      "Repayments of debt : -48787.66666666664\n",
      "Proceeds from sale of interest in consolidated entities, net : 721.6666666666665\n",
      "Net cash used in financing activities : -46275.33333333327\n",
      "Effect of exchange rate changes on cash and cash equivalents : -136.66666666666634\n",
      "Net increase (decrease) in cash and cash equivalents : -16183.666666666662\n",
      "Cash and cash equivalents at beginning of period : 32268.333333333307\n",
      "Cash and cash equivalents at end of period : 16084.66666666665\n",
      "Cash paid for income taxes, net of refunds : 5651.999999999982\n"
     ]
    }
   ],
   "source": [
    "import pandas as pd\n",
    "import numpy as np\n",
    "import statsmodels.api as sm\n",
    "\n",
    "# Load the data\n",
    "df = pd.read_excel(\"Alphabet_cashflow1.xlsx\", index_col=0)\n",
    "\n",
    "# Function to create a forecasting DataFrame from the original DataFrame\n",
    "def for_forecast_df_from_orig_df(orig_df, series_name):\n",
    "    for_fcst_df = pd.DataFrame(orig_df.loc[series_name])\n",
    "    for_fcst_df = for_fcst_df.reset_index(drop=True).reset_index()\n",
    "    for_fcst_df = for_fcst_df.rename(columns={'index': 't'})\n",
    "    return for_fcst_df\n",
    "\n",
    "# Function to compute intercept and beta from forecasting DataFrame\n",
    "def intercept_and_t_beta_from_for_forecast_df(for_fcst_df, series_name):\n",
    "    # Ensure the data is numeric and handle missing values\n",
    "    for_fcst_df = for_fcst_df.dropna()\n",
    "    for_fcst_df = for_fcst_df.apply(pd.to_numeric, errors='coerce')\n",
    "    \n",
    "    # Remove any remaining rows with NaN values\n",
    "    for_fcst_df = for_fcst_df.dropna()\n",
    "\n",
    "    # Fit the model\n",
    "    model = sm.OLS(for_fcst_df[series_name], sm.add_constant(for_fcst_df['t']), hasconst=True)\n",
    "    results = model.fit()\n",
    "    intercept = results.params['const']\n",
    "    beta = results.params['t']\n",
    "    return intercept, beta\n",
    "\n",
    "# Convert DataFrame to dictionary\n",
    "data_dict = df.to_dict(orient='index')\n",
    "\n",
    "# Clean the data and create a list of cleaned data\n",
    "cleaned_data_list = []\n",
    "for k, v in data_dict.items():\n",
    "    nested_list = [[sub_k, sub_v] for sub_k, sub_v in v.items() if sub_v != '\\xa0' and pd.notnull(sub_v)]\n",
    "    if nested_list:\n",
    "        cleaned_data_list.append([k, nested_list])\n",
    "\n",
    "# Iterate over the cleaned data list and compute intercept and beta\n",
    "for i in range(len(cleaned_data_list)):\n",
    "    sr = cleaned_data_list[i][0]\n",
    "    for_fcst = for_forecast_df_from_orig_df(df, sr)\n",
    "    intercept, beta = intercept_and_t_beta_from_for_forecast_df(for_fcst, sr)\n",
    "    print(f\"{sr} : {intercept + beta * 5}\")"
   ]
  },
  {
   "cell_type": "code",
   "execution_count": null,
   "id": "2e921cb2-a0d1-43bf-8127-111205ff49bc",
   "metadata": {},
   "outputs": [],
   "source": []
  }
 ],
 "metadata": {
  "kernelspec": {
   "display_name": "Python 3 (ipykernel)",
   "language": "python",
   "name": "python3"
  },
  "language_info": {
   "codemirror_mode": {
    "name": "ipython",
    "version": 3
   },
   "file_extension": ".py",
   "mimetype": "text/x-python",
   "name": "python",
   "nbconvert_exporter": "python",
   "pygments_lexer": "ipython3",
   "version": "3.11.7"
  }
 },
 "nbformat": 4,
 "nbformat_minor": 5
}
